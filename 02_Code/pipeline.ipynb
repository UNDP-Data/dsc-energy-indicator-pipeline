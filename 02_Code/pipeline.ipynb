{
 "cells": [
  {
   "cell_type": "markdown",
   "metadata": {},
   "source": [
    "Step1: Select the sheet we want"
   ]
  },
  {
   "cell_type": "code",
   "execution_count": 2,
   "metadata": {},
   "outputs": [],
   "source": [
    "import pandas as pd\n",
    "\n",
    "file_path = '/Users/17mac/Desktop/WDIEXCEL.xlsx'\n",
    "\n",
    "# Load the sheet named 'Data'\n",
    "df = pd.read_excel(file_path, sheet_name='Data')"
   ]
  },
  {
   "cell_type": "markdown",
   "metadata": {},
   "source": [
    "Step2: Extract data"
   ]
  },
  {
   "cell_type": "code",
   "execution_count": 7,
   "metadata": {},
   "outputs": [],
   "source": [
    "# Select columns: 'Country Code', 'Indicator Code', and columns that are years\n",
    "columns_to_extract = ['Country Code', 'Indicator Code'] + [col for col in df.columns if col.isdigit()]\n",
    "\n",
    "# Extract the desired columns\n",
    "extracted_df = df[columns_to_extract]\n",
    "\n",
    "# Save the extracted dataframe to a new CSV file\n",
    "output_file_path = 'Data_WDI.csv'\n",
    "extracted_df.to_csv(output_file_path, index=False)"
   ]
  }
 ],
 "metadata": {
  "kernelspec": {
   "display_name": "Python 3",
   "language": "python",
   "name": "python3"
  },
  "language_info": {
   "codemirror_mode": {
    "name": "ipython",
    "version": 3
   },
   "file_extension": ".py",
   "mimetype": "text/x-python",
   "name": "python",
   "nbconvert_exporter": "python",
   "pygments_lexer": "ipython3",
   "version": "3.12.2"
  }
 },
 "nbformat": 4,
 "nbformat_minor": 2
}
